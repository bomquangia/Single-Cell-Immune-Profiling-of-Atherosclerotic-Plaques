{
 "cells": [
  {
   "cell_type": "code",
   "execution_count": 9,
   "metadata": {},
   "outputs": [],
   "source": [
    "import bqplot as bq\n",
    "\n",
    "import pandas as pd\n",
    "\n",
    "import ipywidgets as widgets\n",
    "import numpy as np\n",
    "from bqplot import pyplot as plt\n",
    "import bqplot\n",
    "from ipywidgets import HBox\n",
    "\n",
    "from clustergrammer2 import net"
   ]
  },
  {
   "cell_type": "code",
   "execution_count": 10,
   "metadata": {},
   "outputs": [],
   "source": [
    "scatter_size = 10"
   ]
  },
  {
   "cell_type": "code",
   "execution_count": 11,
   "metadata": {},
   "outputs": [],
   "source": [
    "import warnings\n",
    "warnings.filterwarnings('ignore')"
   ]
  },
  {
   "cell_type": "code",
   "execution_count": 12,
   "metadata": {},
   "outputs": [
    {
     "data": {
      "text/html": [
       "<style>.container { width:100% !important; }</style>"
      ],
      "text/plain": [
       "<IPython.core.display.HTML object>"
      ]
     },
     "metadata": {},
     "output_type": "display_data"
    }
   ],
   "source": [
    "from IPython.core.display import display, HTML\n",
    "display(HTML(\"<style>.container { width:100% !important; }</style>\"))"
   ]
  },
  {
   "cell_type": "code",
   "execution_count": 13,
   "metadata": {},
   "outputs": [],
   "source": [
    "cat_colors = net.load_json_to_dict('../data/citeseq-dashboard/category_colors.json')"
   ]
  },
  {
   "cell_type": "code",
   "execution_count": 14,
   "metadata": {},
   "outputs": [],
   "source": [
    "# read metadata\n",
    "df_meta = pd.read_parquet('../data/citeseq-dashboard/meta_cell.parquet')\n",
    "\n",
    "df_meta['merge-umap-x-pos'] = df_meta['merge-umap-x'] * 130 + 2500\n",
    "df_meta['merge-umap-y-pos'] = df_meta['merge-umap-y'] * 130 + 2000\n",
    "\n",
    "df_meta['adt-umap-x-pos'] = df_meta['adt-umap-x']     * 130 + 2000\n",
    "df_meta['adt-umap-y-pos'] = df_meta['adt-umap-y']     * 130 + 1700\n",
    "\n",
    "df_meta['gex-umap-x-pos'] = df_meta['gex-umap-x']     * 130 + 2700\n",
    "df_meta['gex-umap-y-pos'] = df_meta['gex-umap-y']     * 130 + 2100\n",
    "\n",
    "rows = sorted(df_meta.index.tolist())\n",
    "df_meta = df_meta.loc[rows]"
   ]
  },
  {
   "cell_type": "code",
   "execution_count": 15,
   "metadata": {},
   "outputs": [],
   "source": [
    "def scatter_observe(scatter, hover_data):\n",
    "    scatter.colors = cell_type_colors\n",
    "    \n",
    "    inst_name = hover_data['data']['name']#.split('-')\n",
    "    \n",
    "    inst_cat = df_meta.loc[inst_name, 'Cell Type']\n",
    "    \n",
    "    list_opacities = []\n",
    "\n",
    "    for inst_label in df_meta.index.tolist():\n",
    "        inst_opacity = 0.15\n",
    "        if df_meta.loc[inst_label, 'Cell Type'] == inst_cat:\n",
    "            inst_opacity = 1\n",
    "        list_opacities.append(inst_opacity)        \n",
    "\n",
    "    # patch.opacities = list_opacities\n",
    "    scatter.default_opacities = list_opacities\n",
    "    \n",
    "    fig.title = 'UMAP: ' + inst_cat"
   ]
  },
  {
   "cell_type": "code",
   "execution_count": 16,
   "metadata": {},
   "outputs": [],
   "source": [
    "df_data = pd.read_parquet('../data/citeseq-dashboard/merge_data.parquet')\n",
    "cols = sorted(df_data.columns.tolist())\n",
    "df_data = df_data[cols]"
   ]
  },
  {
   "cell_type": "code",
   "execution_count": 17,
   "metadata": {},
   "outputs": [],
   "source": [
    "# size_values = np.arcsinh(df_meta['UMI_Sum']/5)"
   ]
  },
  {
   "cell_type": "code",
   "execution_count": 18,
   "metadata": {},
   "outputs": [],
   "source": [
    "# cat_colors['CD8_CD4_T_Cells'] = '#D3D3D3'\n",
    "# cat_colors['PBMC'] = '#FF0000'\n",
    "# cat_colors['Plaque'] = '#2a3439'"
   ]
  },
  {
   "cell_type": "code",
   "execution_count": 19,
   "metadata": {
    "scrolled": false
   },
   "outputs": [],
   "source": [
    "x_dim = 2000\n",
    "y_dim = 2000\n",
    "\n",
    "fig = plt.figure(animation_duration=2000)\n",
    "\n",
    "# will be re-used to reset cell type colors\n",
    "cell_type_colors = [cat_colors[df_meta.loc[x, 'Cell Type']] for x in df_meta.index.tolist()]\n",
    "tissue_colors = [cat_colors[df_meta.loc[x, 'Tissue']] for x in df_meta.index.tolist()]\n",
    "\n",
    "def_tt = bqplot.Tooltip(fields=['name'], formats=[''])\n",
    "\n",
    "scatter = plt.scatter(df_meta['merge-umap-x-pos'], \n",
    "                      df_meta['merge-umap-y-pos'],\n",
    "                      display_names=False, \n",
    "                      default_size = 35,\n",
    "#                       size=size_values.values.tolist(),                                            \n",
    "                      tooltip=def_tt,\n",
    "                      names=df_meta.index.tolist(),\n",
    "                      colors=cell_type_colors)\n",
    "\n",
    "\n",
    "\n",
    "top_margin = 200\n",
    "inst_width = 800\n",
    "inst_height = 1000\n",
    "fig.layout.min_height = str(inst_height) + 'px'\n",
    "fig.layout.min_width  = str(inst_width) + 'px'\n",
    "\n",
    "plt.xlim(0, 2.0*x_dim)\n",
    "plt.ylim(0, 2.0*y_dim)\n",
    "fig.title = 'UMAP'\n",
    "fig.fig_margin = {'top': top_margin, 'bottom': 5, 'left': 5, 'right': 5}"
   ]
  },
  {
   "cell_type": "code",
   "execution_count": 20,
   "metadata": {},
   "outputs": [],
   "source": [
    "# scatter.on_hover(callback=scatter_observe)\n",
    "scatter.on_element_click(callback=scatter_observe)"
   ]
  },
  {
   "cell_type": "code",
   "execution_count": 21,
   "metadata": {},
   "outputs": [],
   "source": [
    "default_opacity = 1"
   ]
  },
  {
   "cell_type": "code",
   "execution_count": 22,
   "metadata": {},
   "outputs": [],
   "source": [
    "def cat_highlight(inst_value):\n",
    "    \n",
    "  \n",
    "    \n",
    "    cols = df_data.columns.tolist()\n",
    "\n",
    "    if inst_value == 'reset_cats':\n",
    "\n",
    "        scatter.colors = cell_type_colors\n",
    "        list_opacities = [default_opacity for x in cols]\n",
    "        scatter.default_opacities = list_opacities\n",
    "        \n",
    "    else:\n",
    "        \n",
    "        inst_cat_title = inst_value.split(': ')[0]\n",
    "        \n",
    "        if inst_cat_title == 'Cell Type':\n",
    "            scatter.colors = cell_type_colors\n",
    "        elif inst_cat_title == 'Tissue' : \n",
    "            scatter.colors = tissue_colors\n",
    "        \n",
    "        inst_cat = inst_value.split(': ')[1]\n",
    "\n",
    "        list_opacities = []\n",
    "\n",
    "        for inst_label in cols:\n",
    "            inst_opacity = 0.15\n",
    "            if df_meta.loc[inst_label, inst_cat_title] == inst_cat:\n",
    "                inst_opacity = 1\n",
    "            list_opacities.append(inst_opacity)        \n",
    "\n",
    "         \n",
    "    scatter.default_opacities = list_opacities"
   ]
  },
  {
   "cell_type": "code",
   "execution_count": 23,
   "metadata": {},
   "outputs": [],
   "source": [
    "def on_value_change(change):\n",
    "    # print(change['new'])\n",
    "    \n",
    "    col_nodes = net.viz['col_nodes']\n",
    "    col_names = [x['name'] for x in col_nodes]    \n",
    "    \n",
    "    if change['new'] == 'null':\n",
    "        \n",
    "        # category highlight\n",
    "        cat_highlight('reset_cats')\n",
    "        fig.title = 'UMAP'\n",
    "        \n",
    "    else: \n",
    "        \n",
    "        # click category\n",
    "        if 'cat-' in change['new']:\n",
    "            \n",
    "            \n",
    "            if ' -> ' in change['new']:\n",
    "                inst_cat = change['new'].split(' -> ')[1]\n",
    "\n",
    "                # print('on_value_change', inst_cat)\n",
    "                cat_highlight(inst_cat)       \n",
    "\n",
    "                fig.title = 'UMAP: ' + str(inst_cat.split(': ')[1])\n",
    "            \n",
    "        # mousing over marker\n",
    "        elif 'row-label' in change['new']:\n",
    "            \n",
    "            inst_marker = change['new'].split(' -> ')[1]\n",
    "            ser_opacity = df_data.loc[inst_marker]\n",
    "            ser_opacity = ser_opacity / float(np.abs(ser_opacity.max()))\n",
    "            \n",
    "            fig.title = 'UMAP: ' + inst_marker\n",
    "            \n",
    "            # loop up opacities\n",
    "            list_opacities = []\n",
    "            rows = ser_opacity.index.tolist()\n",
    "            \n",
    "            list_marker_colors = []\n",
    "            \n",
    "            for inst_name in df_data.columns.tolist():\n",
    "                \n",
    "                inst_opacity = ser_opacity[inst_name]\n",
    "                \n",
    "                list_opacities.append(np.abs(inst_opacity))\n",
    "                \n",
    "                if inst_opacity >= 0:\n",
    "                    list_marker_colors.append('red')\n",
    "                else:\n",
    "                    list_marker_colors.append('blue')\n",
    "                    \n",
    "            scatter.default_opacities = list_opacities\n",
    "            scatter.colors = list_marker_colors\n",
    "            \n",
    "        elif 'col-dendro' in change['new']:\n",
    "            # print('found col dendro!!!!!!!!!!!!!!!!!!!!')\n",
    "            \n",
    "            found_indexes = [int(x) for x in change['new'].split(' -> ')[1].split(',')]\n",
    "            \n",
    "            # the columns are not in the same order necessarily\n",
    "            found_barcodes = []\n",
    "            for inst_index in found_indexes:\n",
    "                found_barcodes.append(col_names[inst_index])\n",
    "                            \n",
    "            # set to default cell type colors\n",
    "            scatter.colors = cell_type_colors\n",
    "            \n",
    "            list_opacities = [1.0 if x in found_barcodes else 0.1 for x in df_meta.index.tolist()]\n",
    "            scatter.default_opacities = list_opacities\n",
    "            \n",
    "            fig.title = 'UMAP: Dendrogram Cluster'\n",
    "            \n",
    "        else:\n",
    "            # print('reset color and opacity')\n",
    "            scatter.colors = cell_type_colors\n",
    "            scatter.default_opacities = [1.0] * df_meta.shape[0]"
   ]
  },
  {
   "cell_type": "code",
   "execution_count": 24,
   "metadata": {},
   "outputs": [],
   "source": [
    "net.viz = net.load_json_to_dict('../data/citeseq-dashboard/merge_viz.json')\n",
    "net.widget()\n",
    "net.widget_instance.observe(on_value_change, names='value')"
   ]
  },
  {
   "cell_type": "code",
   "execution_count": 25,
   "metadata": {},
   "outputs": [],
   "source": [
    "from IPython.display import display\n",
    "umap_merge_button = widgets.Button(description=\"UMAP: Merge\")\n",
    "umap_adt_button = widgets.Button(description=\"UMAP: ADT\")\n",
    "umap_gex_button = widgets.Button(description=\"UMAP: GEX\")\n",
    "\n",
    "# display(button)\n",
    "\n",
    "def on_merge_button_click(b):\n",
    "    #print(\"ADT\")\n",
    "    scatter.x = df_meta['merge-umap-x-pos']            \n",
    "    scatter.y = df_meta['merge-umap-y-pos']\n",
    "\n",
    "def on_adt_button_click(b):\n",
    "    #print(\"ADT\")\n",
    "    scatter.x = df_meta['adt-umap-x-pos']            \n",
    "    scatter.y = df_meta['adt-umap-y-pos']\n",
    "\n",
    "    \n",
    "def on_gex_button_click(b):\n",
    "    #print(\"GEX\")\n",
    "    scatter.x = df_meta['gex-umap-x-pos'] \n",
    "    scatter.y = df_meta['gex-umap-y-pos']\n",
    "\n",
    "    \n",
    "\n",
    "umap_merge_button.on_click(on_merge_button_click)    \n",
    "umap_adt_button.on_click(on_adt_button_click)\n",
    "umap_gex_button.on_click(on_gex_button_click)\n",
    "\n",
    "# HBox([location_button, umap_button])"
   ]
  },
  {
   "cell_type": "code",
   "execution_count": 26,
   "metadata": {},
   "outputs": [],
   "source": [
    "button_section = widgets.HBox([umap_merge_button, umap_adt_button, umap_gex_button])\n",
    "left_box = widgets.VBox([button_section, fig])\n",
    "right_box = widgets.VBox([net.widget_instance])"
   ]
  },
  {
   "cell_type": "markdown",
   "metadata": {},
   "source": [
    "# CITE-seq Atherosclerotic Plaques and PBMC"
   ]
  },
  {
   "cell_type": "code",
   "execution_count": 27,
   "metadata": {
    "scrolled": false
   },
   "outputs": [
    {
     "data": {
      "application/vnd.jupyter.widget-view+json": {
       "model_id": "69e91bd2671b438babc022f45907f511",
       "version_major": 2,
       "version_minor": 0
      },
      "text/plain": [
       "HBox(children=(VBox(children=(HBox(children=(Button(description='UMAP: Merge', style=ButtonStyle()), Button(de…"
      ]
     },
     "metadata": {},
     "output_type": "display_data"
    }
   ],
   "source": [
    "widgets.HBox([left_box, right_box])"
   ]
  },
  {
   "cell_type": "code",
   "execution_count": null,
   "metadata": {},
   "outputs": [],
   "source": []
  },
  {
   "cell_type": "code",
   "execution_count": null,
   "metadata": {},
   "outputs": [],
   "source": []
  },
  {
   "cell_type": "code",
   "execution_count": null,
   "metadata": {},
   "outputs": [],
   "source": []
  },
  {
   "cell_type": "code",
   "execution_count": null,
   "metadata": {},
   "outputs": [],
   "source": []
  },
  {
   "cell_type": "code",
   "execution_count": null,
   "metadata": {},
   "outputs": [],
   "source": []
  }
 ],
 "metadata": {
  "kernelspec": {
   "display_name": "Python 3",
   "language": "python",
   "name": "python3"
  },
  "language_info": {
   "codemirror_mode": {
    "name": "ipython",
    "version": 3
   },
   "file_extension": ".py",
   "mimetype": "text/x-python",
   "name": "python",
   "nbconvert_exporter": "python",
   "pygments_lexer": "ipython3",
   "version": "3.6.5"
  }
 },
 "nbformat": 4,
 "nbformat_minor": 2
}
