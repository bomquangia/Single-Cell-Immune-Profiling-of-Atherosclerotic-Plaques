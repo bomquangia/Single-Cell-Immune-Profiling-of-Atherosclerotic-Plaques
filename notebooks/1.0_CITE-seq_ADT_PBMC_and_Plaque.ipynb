{
 "cells": [
  {
   "cell_type": "markdown",
   "metadata": {},
   "source": [
    "# 1.0 CITE-seq ADT PBMC and Plaque\n",
    "This notebook displays interactive heatmaps of single cell antibody derived tag data from plaque and PBMC from the same subject. The data has been UMI normalized and Z-scored - please see manuscript for additional information. "
   ]
  },
  {
   "cell_type": "code",
   "execution_count": 1,
   "metadata": {},
   "outputs": [
    {
     "name": "stdout",
     "output_type": "stream",
     "text": [
      ">> clustergrammer2 backend version 0.5.1\n"
     ]
    }
   ],
   "source": [
    "from clustergrammer2 import net\n",
    "df = {}"
   ]
  },
  {
   "cell_type": "code",
   "execution_count": 2,
   "metadata": {},
   "outputs": [
    {
     "name": "stdout",
     "output_type": "stream",
     "text": [
      "pbmc (21, 3589)\n",
      "plaque (21, 1643)\n",
      "pbmc and plaque (21, 5232)\n"
     ]
    }
   ],
   "source": [
    "net.load_file('../data/citeseq_adt_pbmc.txt')\n",
    "df['pbmc'] = net.export_df()\n",
    "print('pbmc', df['pbmc'].shape)\n",
    "\n",
    "net.load_file('../data/citeseq_adt_plaque.txt')\n",
    "df['plaque'] = net.export_df()\n",
    "print('plaque', df['plaque'].shape)\n",
    "\n",
    "net.load_file('../data/citeseq_adt_merge.txt')\n",
    "df['merged'] = net.export_df()\n",
    "print('pbmc and plaque', df['merged'].shape)"
   ]
  },
  {
   "cell_type": "code",
   "execution_count": 3,
   "metadata": {},
   "outputs": [],
   "source": [
    "cat_colors = net.load_json_to_dict('../data/cite-seq_cat_colors.json')\n",
    "net.set_cat_colors(cat_colors=cat_colors, axis='col', cat_index=1, cat_title='Tissue')\n",
    "net.set_cat_colors(cat_colors=cat_colors, axis='col', cat_index=2, cat_title='Cell Type')"
   ]
  },
  {
   "cell_type": "markdown",
   "metadata": {},
   "source": [
    "# PBMC ADT"
   ]
  },
  {
   "cell_type": "code",
   "execution_count": 4,
   "metadata": {
    "scrolled": false
   },
   "outputs": [
    {
     "data": {
      "application/vnd.jupyter.widget-view+json": {
       "model_id": "afae67fcb96048e7b7dd193ce839c7d9",
       "version_major": 2,
       "version_minor": 0
      },
      "text/plain": [
       "ExampleWidget(network='{\"row_nodes\": [{\"name\": \"CD11b\", \"ini\": 21, \"clust\": 16, \"rank\": 14, \"rankvar\": 11, \"gr…"
      ]
     },
     "metadata": {},
     "output_type": "display_data"
    }
   ],
   "source": [
    "net.load_df(df['pbmc'])\n",
    "net.widget()"
   ]
  },
  {
   "cell_type": "markdown",
   "metadata": {},
   "source": [
    "# Plaque ADT"
   ]
  },
  {
   "cell_type": "code",
   "execution_count": 5,
   "metadata": {
    "scrolled": false
   },
   "outputs": [
    {
     "data": {
      "application/vnd.jupyter.widget-view+json": {
       "model_id": "8e491f6a9a534fe4940ff7bd3d8df442",
       "version_major": 2,
       "version_minor": 0
      },
      "text/plain": [
       "ExampleWidget(network='{\"row_nodes\": [{\"name\": \"CD11b\", \"ini\": 21, \"clust\": 9, \"rank\": 18, \"rankvar\": 10, \"gro…"
      ]
     },
     "metadata": {},
     "output_type": "display_data"
    }
   ],
   "source": [
    "net.load_df(df['plaque'])\n",
    "net.widget()"
   ]
  },
  {
   "cell_type": "markdown",
   "metadata": {},
   "source": [
    "# PBMC and Plaque ADT"
   ]
  },
  {
   "cell_type": "code",
   "execution_count": 6,
   "metadata": {
    "scrolled": false
   },
   "outputs": [
    {
     "data": {
      "application/vnd.jupyter.widget-view+json": {
       "model_id": "b527b9b321c9483abe6a11b475f2a3c3",
       "version_major": 2,
       "version_minor": 0
      },
      "text/plain": [
       "ExampleWidget(network='{\"row_nodes\": [{\"name\": \"CD11b\", \"ini\": 21, \"clust\": 13, \"rank\": 13, \"rankvar\": 10, \"gr…"
      ]
     },
     "metadata": {},
     "output_type": "display_data"
    }
   ],
   "source": [
    "net.load_df(df['merged'])\n",
    "net.widget()"
   ]
  },
  {
   "cell_type": "code",
   "execution_count": null,
   "metadata": {},
   "outputs": [],
   "source": []
  }
 ],
 "metadata": {
  "kernelspec": {
   "display_name": "Python 3",
   "language": "python",
   "name": "python3"
  },
  "language_info": {
   "codemirror_mode": {
    "name": "ipython",
    "version": 3
   },
   "file_extension": ".py",
   "mimetype": "text/x-python",
   "name": "python",
   "nbconvert_exporter": "python",
   "pygments_lexer": "ipython3",
   "version": "3.6.5"
  }
 },
 "nbformat": 4,
 "nbformat_minor": 2
}
