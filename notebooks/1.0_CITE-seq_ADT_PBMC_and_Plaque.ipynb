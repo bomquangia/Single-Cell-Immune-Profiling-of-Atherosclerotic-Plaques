{
 "cells": [
  {
   "cell_type": "markdown",
   "metadata": {},
   "source": [
    "# 1.0 CITE-seq ADT PBMC and Plaque\n",
    "This notebook displays interactive heatmaps of single cell antibody derived tag data from plaque and PBMC from the same subject. The data has been UMI normalized and Z-scored - please see manuscript for additional information. "
   ]
  },
  {
   "cell_type": "code",
   "execution_count": null,
   "metadata": {},
   "outputs": [],
   "source": [
    "from clustergrammer2 import net\n",
    "df = {}"
   ]
  },
  {
   "cell_type": "code",
   "execution_count": null,
   "metadata": {},
   "outputs": [],
   "source": [
    "net.load_file('../data/citeseq_adt_pbmc.txt')\n",
    "df['pbmc'] = net.export_df()\n",
    "print('pbmc', df['pbmc'].shape)\n",
    "\n",
    "net.load_file('../data/citeseq_adt_plaque.txt')\n",
    "df['plaque'] = net.export_df()\n",
    "print('plaque', df['plaque'].shape)\n",
    "\n",
    "net.load_file('../data/citeseq_adt_merge.txt')\n",
    "df['merged'] = net.export_df()\n",
    "print('pbmc and plaque', df['merged'].shape)"
   ]
  },
  {
   "cell_type": "code",
   "execution_count": null,
   "metadata": {},
   "outputs": [],
   "source": [
    "cat_colors = net.load_json_to_dict('../data/cite-seq_cat_colors.json')\n",
    "net.set_cat_colors(cat_colors=cat_colors, axis='col', cat_index=1, cat_title='Tissue')\n",
    "net.set_cat_colors(cat_colors=cat_colors, axis='col', cat_index=2, cat_title='Cell Type')"
   ]
  },
  {
   "cell_type": "markdown",
   "metadata": {},
   "source": [
    "# PBMC ADT"
   ]
  },
  {
   "cell_type": "code",
   "execution_count": null,
   "metadata": {
    "scrolled": false
   },
   "outputs": [],
   "source": [
    "net.load_df(df['pbmc'])\n",
    "net.widget()"
   ]
  },
  {
   "cell_type": "markdown",
   "metadata": {},
   "source": [
    "# Plaque ADT"
   ]
  },
  {
   "cell_type": "code",
   "execution_count": null,
   "metadata": {
    "scrolled": false
   },
   "outputs": [],
   "source": [
    "net.load_df(df['plaque'])\n",
    "net.widget()"
   ]
  },
  {
   "cell_type": "markdown",
   "metadata": {},
   "source": [
    "# PBMC and Plaque ADT"
   ]
  },
  {
   "cell_type": "code",
   "execution_count": null,
   "metadata": {
    "scrolled": false
   },
   "outputs": [],
   "source": [
    "net.load_df(df['merged'])\n",
    "net.widget()"
   ]
  },
  {
   "cell_type": "code",
   "execution_count": null,
   "metadata": {},
   "outputs": [],
   "source": []
  }
 ],
 "metadata": {
  "kernelspec": {
   "display_name": "Python 3",
   "language": "python",
   "name": "python3"
  },
  "language_info": {
   "codemirror_mode": {
    "name": "ipython",
    "version": 3
   },
   "file_extension": ".py",
   "mimetype": "text/x-python",
   "name": "python",
   "nbconvert_exporter": "python",
   "pygments_lexer": "ipython3",
   "version": "3.6.5"
  }
 },
 "nbformat": 4,
 "nbformat_minor": 2
}
