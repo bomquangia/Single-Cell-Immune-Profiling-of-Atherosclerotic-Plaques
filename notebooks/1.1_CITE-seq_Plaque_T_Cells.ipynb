{
 "cells": [
  {
   "cell_type": "markdown",
   "metadata": {},
   "source": [
    "# 1.1 CITE-seq Plaque T Cells\n",
    "This notebook displays interactive heatmaps of single cell gene expression data from plaque T Cells. The data has been UMI normalized and Z-scored - please see manuscript for additional information. "
   ]
  },
  {
   "cell_type": "code",
   "execution_count": null,
   "metadata": {},
   "outputs": [],
   "source": []
  }
 ],
 "metadata": {
  "kernelspec": {
   "display_name": "Python 3",
   "language": "python",
   "name": "python3"
  },
  "language_info": {
   "codemirror_mode": {
    "name": "ipython",
    "version": 3
   },
   "file_extension": ".py",
   "mimetype": "text/x-python",
   "name": "python",
   "nbconvert_exporter": "python",
   "pygments_lexer": "ipython3",
   "version": "3.6.5"
  }
 },
 "nbformat": 4,
 "nbformat_minor": 2
}
